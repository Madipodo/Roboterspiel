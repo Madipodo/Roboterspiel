{
 "cells": [
  {
   "cell_type": "code",
   "execution_count": 1,
   "metadata": {},
   "outputs": [],
   "source": [
    "import urllib.request\n",
    "import cv2\n",
    "import numpy as np\n",
    "import rtde.rtde as rtde\n",
    "import rtde.rtde_config as rtde_config\n",
    "import sys"
   ]
  },
  {
   "cell_type": "code",
   "execution_count": 8,
   "metadata": {},
   "outputs": [
    {
     "name": "stdout",
     "output_type": "stream",
     "text": [
      "WARNING:tensorflow:No training configuration found in the save file, so the model was *not* compiled. Compile it manually.\n"
     ]
    }
   ],
   "source": [
    "# Inizialisierung \n",
    "# Variablen Deklarierens\n",
    "hostname = \"10.1.91.167\"\n",
    "ROBOT_PORT = 30004\n",
    "config_filename = 'control_loop_configuration.xml'\n",
    "DEBUG = True"
   ]
  },
  {
   "cell_type": "code",
   "execution_count": 3,
   "metadata": {},
   "outputs": [],
   "source": [
    "# Kamerabild auslesen\n",
    "def get_image():\n",
    "    global hostname\n",
    "    cv2.waitKey(1) # Verzögerung, damit Kamera den Fokus findet (nur 1ms evtl unnötig)\n",
    "    resp = urllib.request.urlopen(f\"http://{hostname}:4242/current.jpg?type=color\")\n",
    "    image = np.asarray(bytearray(resp.read()), dtype=\"uint8\")\n",
    "    image = cv2.imdecode(image, cv2.IMREAD_COLOR)\n",
    "    return image"
   ]
  },
  {
   "cell_type": "markdown",
   "metadata": {},
   "source": [
    "**Rückgabewerte get_letter_from_image**\n",
    "\n",
    "- 1 = A bzw. grau\n",
    "- 2 = I bzw. rot\n",
    "- 3 = F bzw. grün\n",
    "- 4 = O bzw. geld\n",
    "- 5 = R bzw. blau\n",
    "- 6 = U bzw. weiß\n",
    "- 99 = Fehler nichts erkannt\n",
    " "
   ]
  },
  {
   "cell_type": "code",
   "execution_count": 4,
   "metadata": {},
   "outputs": [],
   "source": [
    "# Buchstaben aus Bild erkennen\n",
    "def get_letter_from_image(image):\n",
    "    # Bild zu HSV-Format umwandeln\n",
    "    hsv = cv2.cvtColor(image, cv2.COLOR_BGR2HSV)\n",
    "\n",
    "    # Bereich der geprüft werden soll extrahieren\n",
    "    height, widgth, _ = image.shape\n",
    "    squareToCheck = hsv[height - 95: height - 55, int(widgth / 2 - 20): int(widgth / 2 + 20), :]\n",
    "    return get_color_of_area(squareToCheck)"
   ]
  },
  {
   "cell_type": "code",
   "execution_count": null,
   "metadata": {},
   "outputs": [],
   "source": [
    "def get_color_of_area(area):\n",
    "    # Mögliche Rückgaben\n",
    "    dict_letters = {\"A\":1, \"I\":2, \"F\":3, \"O\":4,\"R\":5, \"U\":6, \"Error\": 99}\n",
    "    dict_colors = {\"grau\":1, \"rot\":2, \"grün\":3, \"gelb\":4,\"blau\":5, \"weiß\":6, \"Error\": 99}\n",
    "    # Durschschnitts HSV-Werte des Bildbereichs ermitteln\n",
    "    sum = [0, 0, 0]\n",
    "    posibility = 0\n",
    "    numberOfPixelToCheck = 0\n",
    "    for line in area:\n",
    "        for pixel in line:\n",
    "            sum[0] += pixel[0]\n",
    "            sum[1] += pixel[1]\n",
    "            sum[2] += pixel[2]\n",
    "            numberOfPixelToCheck += 1\n",
    "\n",
    "            if pixel[0] < 10 or pixel[1] > 330:\n",
    "                posibility += 1\n",
    "    \n",
    "    average = [sum[0] / numberOfPixelToCheck, sum[1] / numberOfPixelToCheck, sum[2] / numberOfPixelToCheck]\n",
    "\n",
    "    # Funktion zum umnormieren des Durchschnittwertes (H - 360, S - 100, V - 100)\n",
    "    def normalize(value, value_max, norm_max):\n",
    "        return value * norm_max / value_max\n",
    "\n",
    "    # Anhand der Durchschnittswerte, Farbe (Buchstabe) erkennen und Ergebnis zurückgeben\n",
    "    if posibility / numberOfPixelToCheck > 0.75:\n",
    "        if DEBUG: \n",
    "            print(\"I\")\n",
    "        return dict_letters[\"I\"]\n",
    "    elif normalize(60, 360, 255) <= average[0] <= normalize(140, 360, 255):\n",
    "        if normalize(0, 100, 255) <= average[1] <= normalize(50, 100, 255):\n",
    "            if DEBUG: \n",
    "                print(\"A\")\n",
    "            return dict_letters[\"A\"]\n",
    "        elif normalize(50, 100, 255) <= average[1] <= normalize(100, 100, 255):\n",
    "            if DEBUG: \n",
    "                print(\"F\")\n",
    "            return dict_letters[\"F\"]\n",
    "    elif normalize(22, 360, 255) <=  average[0] <= normalize(55, 360, 255):\n",
    "        if normalize(0, 100, 255) <= average[1] <= normalize(50, 100, 255):\n",
    "            if DEBUG: \n",
    "                print(\"U\")\n",
    "            return dict_letters[\"U\"]\n",
    "        elif normalize(50, 100, 255) <= average[1] <= normalize(100, 100, 255):\n",
    "            if DEBUG: \n",
    "                print(\"O\")\n",
    "            return dict_letters[\"O\"]\n",
    "    elif normalize(150, 360, 255) <=  average[0] <= normalize(240, 360, 255):\n",
    "        if DEBUG: \n",
    "            print(\"R\")\n",
    "        return dict_letters[\"R\"]\n",
    "    \n",
    "    # Rückgabe, wenn kein Buchstabe erkannt wurde\n",
    "    return dict_letters[\"Error\"]"
   ]
  },
  {
   "cell_type": "code",
   "execution_count": null,
   "metadata": {},
   "outputs": [],
   "source": [
    "# Kommunikation mit Roboter herstellen und Konfigurieren\n",
    "# Konfiguationsfile für Kommunikation laden\n",
    "conf = rtde_config.ConfigFile(config_filename)\n",
    "input_names, input_types = conf.get_recipe('input_vals')\n",
    "output_names, output_types = conf.get_recipe('output_vals')\n",
    "\n",
    "# RTDE Client erstellen und verbinden\n",
    "con = rtde.RTDE(hostname, ROBOT_PORT)\n",
    "con.connect()\n",
    "\n",
    "# setup recipes \n",
    "input_vals = con.send_input_setup(input_names, input_types)\n",
    "output_vals = con.send_output_setup(output_names, output_types)\n",
    "\n",
    "# Variablen Inizialisieren\n",
    "input_vals.input_int_register_0 = 0\n",
    "\n",
    "#start data synchronization\n",
    "if not con.send_start():\n",
    "    sys.exit()"
   ]
  },
  {
   "cell_type": "markdown",
   "metadata": {},
   "source": [
    "**Codes to robot:**\n",
    "- 0: Wait/Nothing\n",
    "- 1 - 6: Positions/Colors\n",
    "\n",
    "**Codes from roboter:**\n",
    "- 0: Wait\n",
    "- 1: Ready\n",
    "- 99: Exit\n",
    "    "
   ]
  },
  {
   "cell_type": "code",
   "execution_count": null,
   "metadata": {},
   "outputs": [],
   "source": [
    "# Main Loop\n",
    "running = True\n",
    "letter_detected = False\n",
    "while running:\n",
    "    output_vals = con.receive()\n",
    "    if output_vals is None:\n",
    "        break\n",
    "\n",
    "    # Warte darauf das der Roboterbereit steht\n",
    "    while output_vals.output_status_robot == 0:\n",
    "        # Wenn RB nicht bereit Inputdaten rücksetzen und senden\n",
    "        input_vals.input_detected_color = 0\n",
    "        if DEBUG:\n",
    "            print(input_vals.input_detected_color)\n",
    "        letter_detected = False\n",
    "        con.send(input_vals)\n",
    "\n",
    "        # kurz warten und dann Daten vom Roboter erneut überprüfen\n",
    "        cv2.waitKey(500)\n",
    "        output_vals = con.receive()\n",
    "        # Wenn keine Daten empfangen abbrechen\n",
    "        if output_vals is None:\n",
    "            running = False\n",
    "            break\n",
    "\n",
    "    # Sobald Roboter bereit steht -> Buchstaben erkennen\n",
    "    if output_vals.output_status_robot == 1 and letter_detected == False:        \n",
    "        while True:\n",
    "            feedback = [99, 99, 99]\n",
    "            for i in range(3):\n",
    "                image = get_image()\n",
    "                feedback[i] = get_letter_from_image(image)\n",
    "            if feedback[0] == feedback[1] == feedback[2]:\n",
    "                break\n",
    "        input_vals.input_detected_color = feedback[0] \n",
    "        letter_detected = True\n",
    "    # Programm abbrechen\n",
    "    elif output_vals.output_status_robot == 99:\n",
    "        input_vals.input_detected_color = 0\n",
    "        con.send(input_vals)\n",
    "        break\n",
    "    \n",
    "    con.send(input_vals)\n",
    "\n",
    "# RTDE Client verbindung trennen\n",
    "con.disconnect()"
   ]
  }
 ],
 "metadata": {
  "interpreter": {
   "hash": "8dd46604197fbac0b8f2fd590431e40410c6ec5a3f9f1bd3240f5e252378fc5a"
  },
  "kernelspec": {
   "display_name": "Python 3.9.7 64-bit",
   "language": "python",
   "name": "python3"
  },
  "language_info": {
   "codemirror_mode": {
    "name": "ipython",
    "version": 3
   },
   "file_extension": ".py",
   "mimetype": "text/x-python",
   "name": "python",
   "nbconvert_exporter": "python",
   "pygments_lexer": "ipython3",
   "version": "3.9.7"
  },
  "orig_nbformat": 4
 },
 "nbformat": 4,
 "nbformat_minor": 2
}
