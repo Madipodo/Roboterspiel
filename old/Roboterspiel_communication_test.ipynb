{
 "cells": [
  {
   "cell_type": "code",
   "execution_count": 1,
   "metadata": {},
   "outputs": [],
   "source": [
    "import cv2 \n",
    "import numpy as np\n",
    "import urllib\n",
    "from PIL import Image\n",
    "import requests\n",
    "import sys\n",
    "\n",
    "import rtde.rtde as rtde\n",
    "import rtde.rtde_config as rtde_config"
   ]
  },
  {
   "cell_type": "code",
   "execution_count": 4,
   "metadata": {},
   "outputs": [],
   "source": [
    "hostname = \"10.1.91.167\"\n",
    "ROBOT_PORT = 30004\n",
    "config_filename = 'control_loop_configuration.xml'\n",
    "keep_running = True"
   ]
  },
  {
   "cell_type": "code",
   "execution_count": 44,
   "metadata": {},
   "outputs": [],
   "source": [
    "# Bild aus Website einlesen als Video\n",
    "while True:\n",
    "    # download the image, convert it to a NumPy array, and then read\n",
    "    resp = urllib.request.urlopen(f\"http://{hostname}:4242/current.jpg?type=color\")\n",
    "    image = np.asarray(bytearray(resp.read()), dtype=\"uint8\")\n",
    "    img = cv2.imdecode(image, cv2.IMREAD_COLOR)\n",
    "    # return the image\n",
    "    cv2.imshow(\"Cam\", img)\n",
    "    if cv2.waitKey(1) == ord('q'):\n",
    "        break\n",
    "    \n",
    "cv2.destroyAllWindows()\n"
   ]
  },
  {
   "cell_type": "code",
   "execution_count": null,
   "metadata": {},
   "outputs": [],
   "source": [
    "# Bild aus Website auslesen statisches Bild\n",
    "resp = urllib.request.urlopen(f\"http://{hostname}:4242/current.jpg?type=color\")\n",
    "image = np.asarray(bytearray(resp.read()), dtype=\"uint8\")\n",
    "image = cv2.imdecode(image, cv2.IMREAD_COLOR)\n",
    "\n",
    "cv2.imshow(\"Cam\", image)\n",
    "cv2.waitKey()\n",
    "cv2.destroyAllWindows()"
   ]
  },
  {
   "cell_type": "code",
   "execution_count": 6,
   "metadata": {},
   "outputs": [],
   "source": [
    "# Bild aus Website auslesen statisches Bild --- Muss noch getestet werden\n",
    "im = Image.open(requests.get(f\"http://{hostname}:4242/current.jpg?type=color\", stream=True).raw)\n",
    "im.show(\"Bild von Website\")"
   ]
  },
  {
   "cell_type": "code",
   "execution_count": 10,
   "metadata": {},
   "outputs": [],
   "source": [
    "# Konfiguationsfile für Kommunikation laden\n",
    "conf = rtde_config.ConfigFile(config_filename)\n",
    "input_names, input_types = conf.get_recipe('setp')\n",
    "output_names, output_types = conf.get_recipe('getp')"
   ]
  },
  {
   "cell_type": "code",
   "execution_count": 11,
   "metadata": {},
   "outputs": [],
   "source": [
    "# RTDE Client erstellen und verbinden\n",
    "con = rtde.RTDE(hostname, ROBOT_PORT)\n",
    "con.connect() "
   ]
  },
  {
   "cell_type": "code",
   "execution_count": 30,
   "metadata": {},
   "outputs": [],
   "source": [
    "# Virtuelle Maschine\n",
    "# RTDE Client erstellen und verbinden\n",
    "con = rtde.RTDE('10.1.180.157', ROBOT_PORT)\n",
    "con.connect()"
   ]
  },
  {
   "cell_type": "code",
   "execution_count": 12,
   "metadata": {},
   "outputs": [],
   "source": [
    "# setup recipes \n",
    "\n",
    "input_vals = con.send_input_setup(input_names, input_types)\n",
    "output_vals = con.send_output_setup(output_names, output_types)"
   ]
  },
  {
   "cell_type": "code",
   "execution_count": 13,
   "metadata": {},
   "outputs": [
    {
     "data": {
      "text/plain": [
       "{'input_int_register_0': None, 'input_int_register_1': None, 'recipe_id': 1}"
      ]
     },
     "execution_count": 13,
     "metadata": {},
     "output_type": "execute_result"
    }
   ],
   "source": [
    "input_vals.__dict__"
   ]
  },
  {
   "cell_type": "code",
   "execution_count": 14,
   "metadata": {},
   "outputs": [],
   "source": [
    "input_vals.input_int_register_0 = 0\n",
    "input_vals.input_int_register_1 = 0"
   ]
  },
  {
   "cell_type": "code",
   "execution_count": 15,
   "metadata": {},
   "outputs": [],
   "source": [
    "#start data synchronization\n",
    "if not con.send_start():\n",
    "    sys.exit()"
   ]
  },
  {
   "cell_type": "code",
   "execution_count": 39,
   "metadata": {},
   "outputs": [
    {
     "name": "stdout",
     "output_type": "stream",
     "text": [
      "Last Output: 0\n",
      "Current Output: 20\n",
      "1\n",
      "Last Output: 20\n",
      "Current Output: 1\n",
      "2\n",
      "Last Output: 1\n",
      "Current Output: 2\n",
      "3\n",
      "Last Output: 2\n",
      "Current Output: 3\n",
      "4\n",
      "Last Output: 3\n",
      "Current Output: 4\n",
      "5\n",
      "Last Output: 4\n",
      "Current Output: 5\n",
      "6\n",
      "Last Output: 5\n",
      "Current Output: 6\n",
      "7\n",
      "Last Output: 6\n",
      "Current Output: 7\n",
      "8\n",
      "Last Output: 7\n",
      "Current Output: 8\n",
      "9\n",
      "Last Output: 8\n",
      "Current Output: 9\n",
      "10\n"
     ]
    },
    {
     "ename": "KeyboardInterrupt",
     "evalue": "",
     "output_type": "error",
     "traceback": [
      "\u001b[1;31m---------------------------------------------------------------------------\u001b[0m",
      "\u001b[1;31mKeyboardInterrupt\u001b[0m                         Traceback (most recent call last)",
      "\u001b[1;32m~\\AppData\\Local\\Temp/ipykernel_16668/2508538632.py\u001b[0m in \u001b[0;36m<module>\u001b[1;34m\u001b[0m\n\u001b[0;32m     22\u001b[0m     \u001b[1;31m# Einfach mal senden\u001b[0m\u001b[1;33m\u001b[0m\u001b[1;33m\u001b[0m\u001b[0m\n\u001b[0;32m     23\u001b[0m     \u001b[0mcon\u001b[0m\u001b[1;33m.\u001b[0m\u001b[0msend\u001b[0m\u001b[1;33m(\u001b[0m\u001b[0minput_vals\u001b[0m\u001b[1;33m)\u001b[0m\u001b[1;33m\u001b[0m\u001b[1;33m\u001b[0m\u001b[0m\n\u001b[1;32m---> 24\u001b[1;33m     \u001b[0mcv2\u001b[0m\u001b[1;33m.\u001b[0m\u001b[0mwaitKey\u001b[0m\u001b[1;33m(\u001b[0m\u001b[1;36m1000\u001b[0m\u001b[1;33m)\u001b[0m\u001b[1;33m\u001b[0m\u001b[1;33m\u001b[0m\u001b[0m\n\u001b[0m\u001b[0;32m     25\u001b[0m     \u001b[0moutput_vals\u001b[0m \u001b[1;33m=\u001b[0m \u001b[0mcon\u001b[0m\u001b[1;33m.\u001b[0m\u001b[0mreceive\u001b[0m\u001b[1;33m(\u001b[0m\u001b[1;33m)\u001b[0m\u001b[1;33m\u001b[0m\u001b[1;33m\u001b[0m\u001b[0m\n\u001b[0;32m     26\u001b[0m \u001b[1;33m\u001b[0m\u001b[0m\n",
      "\u001b[1;31mKeyboardInterrupt\u001b[0m: "
     ]
    }
   ],
   "source": [
    "last_output = 0\n",
    "input_vals.input_int_register_0 = 0\n",
    "#print(input_vals.input_int_register_0)\n",
    "\n",
    "while keep_running:\n",
    "    # receive the current state\n",
    "    output_vals = con.receive()\n",
    "    \n",
    "    if output_vals is None:\n",
    "        break\n",
    "\n",
    "    print(\"Last Output: \" + str(last_output))\n",
    "    print(\"Current Output: \" + str(output_vals.output_int_register_0))\n",
    "\n",
    "    if last_output != output_vals.output_int_register_0:\n",
    "        input_vals.input_int_register_0 += 1\n",
    "\n",
    "    last_output = output_vals.output_int_register_0 \n",
    "\n",
    "    \n",
    "    print(input_vals.input_int_register_0)\n",
    "    # Einfach mal senden\n",
    "    con.send(input_vals)\n",
    "    cv2.waitKey(1000)   \n",
    "    output_vals = con.receive()\n",
    "\n",
    "    if  output_vals.output_int_register_0 >= 20:\n",
    "        break\n",
    "\n",
    "\n",
    "    continue\n",
    "    # do something...\n",
    "    if output_vals.output_int_register_0 != 0:\n",
    "        print(\"Hello\")\n",
    "        # send new setpoint        \n",
    "        con.send(input_vals.__dict__[\"input_int_register_0\"])\n"
   ]
  },
  {
   "cell_type": "code",
   "execution_count": 16,
   "metadata": {},
   "outputs": [],
   "source": [
    "# RTDE Client verbindung trennen\n",
    "con.disconnect()"
   ]
  }
 ],
 "metadata": {
  "interpreter": {
   "hash": "8dd46604197fbac0b8f2fd590431e40410c6ec5a3f9f1bd3240f5e252378fc5a"
  },
  "kernelspec": {
   "display_name": "Python 3.9.7 64-bit",
   "language": "python",
   "name": "python3"
  },
  "language_info": {
   "codemirror_mode": {
    "name": "ipython",
    "version": 3
   },
   "file_extension": ".py",
   "mimetype": "text/x-python",
   "name": "python",
   "nbconvert_exporter": "python",
   "pygments_lexer": "ipython3",
   "version": "3.9.7"
  },
  "orig_nbformat": 4
 },
 "nbformat": 4,
 "nbformat_minor": 2
}
