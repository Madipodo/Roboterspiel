{
 "cells": [
  {
   "cell_type": "code",
   "execution_count": 2,
   "metadata": {},
   "outputs": [
    {
     "name": "stdout",
     "output_type": "stream",
     "text": [
      "WARNING:tensorflow:No training configuration found in the save file, so the model was *not* compiled. Compile it manually.\n",
      "[[9.9513924e-01 9.3332119e-04 5.5014464e-04 8.5906009e-04 1.9026211e-03\n",
      "  6.1570806e-04]]\n"
     ]
    }
   ],
   "source": [
    "from keras.models import load_model\n",
    "from PIL import Image, ImageOps\n",
    "import numpy as np\n",
    "\n",
    "# Load the model\n",
    "model = load_model('keras_model.h5')\n",
    "\n",
    "# Create the array of the right shape to feed into the keras model\n",
    "# The 'length' or number of images you can put into the array is\n",
    "# determined by the first position in the shape tuple, in this case 1.\n",
    "data = np.ndarray(shape=(1, 224, 224, 3), dtype=np.float32)\n",
    "# Replace this with the path to your image\n",
    "image = Image.open('images/image_0.jpg')\n",
    "#resize the image to a 224x224 with the same strategy as in TM2:\n",
    "#resizing the image to be at least 224x224 and then cropping from the center\n",
    "size = (224, 224)\n",
    "image = ImageOps.fit(image, size, Image.ANTIALIAS)\n",
    "\n",
    "#turn the image into a numpy array\n",
    "image_array = np.asarray(image)\n",
    "# Normalize the image\n",
    "normalized_image_array = (image_array.astype(np.float32) / 127.0) - 1\n",
    "# Load the image into the array\n",
    "data[0] = normalized_image_array\n",
    "\n",
    "# run the inference\n",
    "prediction = model.predict(data)\n",
    "print(prediction)"
   ]
  },
  {
   "cell_type": "markdown",
   "metadata": {},
   "source": [
    "Ab hier Test der Bilderkennnung"
   ]
  },
  {
   "cell_type": "code",
   "execution_count": 4,
   "metadata": {},
   "outputs": [],
   "source": [
    "import cv2 \n",
    "import numpy as np\n",
    "import urllib\n",
    "import sys\n",
    "import rtde.rtde as rtde\n",
    "import rtde.rtde_config as rtde_config\n",
    "from keras.models import load_model\n",
    "from PIL import Image, ImageOps"
   ]
  },
  {
   "cell_type": "code",
   "execution_count": 2,
   "metadata": {},
   "outputs": [
    {
     "name": "stdout",
     "output_type": "stream",
     "text": [
      "WARNING:tensorflow:No training configuration found in the save file, so the model was *not* compiled. Compile it manually.\n"
     ]
    }
   ],
   "source": [
    "# Inizialisierung \n",
    "# Keras Model Laden\n",
    "model = load_model('keras_model.h5')\n",
    "\n",
    "# Variablen Deklarieren\n",
    "hostname = \"10.1.91.167\"\n",
    "ROBOT_PORT = 30004\n",
    "config_filename = 'control_loop_configuration.xml'\n",
    "keep_running = True\n",
    "\n",
    "# Konfiguationsfile für Kommunikation laden\n",
    "conf = rtde_config.ConfigFile(config_filename)\n",
    "input_names, input_types = conf.get_recipe('setp')\n",
    "output_names, output_types = conf.get_recipe('getp')"
   ]
  },
  {
   "cell_type": "code",
   "execution_count": 3,
   "metadata": {},
   "outputs": [],
   "source": [
    "# Kamerabild auslesen\n",
    "def get_image():\n",
    "    resp = urllib.request.urlopen(f\"http://{hostname}:4242/current.jpg?type=color\")\n",
    "    image = np.asarray(bytearray(resp.read()), dtype=\"uint8\")\n",
    "    image = cv2.imdecode(image, cv2.IMREAD_COLOR)\n",
    "    return image"
   ]
  },
  {
   "cell_type": "code",
   "execution_count": 3,
   "metadata": {},
   "outputs": [],
   "source": [
    "# Buchstaben aus Bild erkennen\n",
    "def detect_letter_form_image(image: np.ndarray):\n",
    "    # Create the array of the right shape to feed into the keras model\n",
    "    # The 'length' or number of images you can put into the array is\n",
    "    # determined by the first position in the shape tuple, in this case 1.\n",
    "    data = np.ndarray(shape=(1, 224, 224, 3), dtype=np.float32)\n",
    "\n",
    "    #resize the image to a 224x224 with the same strategy as in TM2:\n",
    "    image_array = cv2.resize(image, (224, 224))\n",
    "\n",
    "    # Normalize the image\n",
    "    normalized_image_array = (image_array.astype(np.float32) / 127.0) - 1\n",
    "    # Load the image into the array\n",
    "    data[0] = normalized_image_array\n",
    "\n",
    "    # run the inference\n",
    "    return model.predict(data)"
   ]
  },
  {
   "cell_type": "code",
   "execution_count": 17,
   "metadata": {},
   "outputs": [
    {
     "name": "stdout",
     "output_type": "stream",
     "text": [
      "[[0.18385258 0.03837899 0.23330355 0.04333625 0.44667774 0.05445089]]\n",
      "R\n"
     ]
    }
   ],
   "source": [
    "# Test mit Bild aus Datei\n",
    "image = cv2.imread(\"images/image_7.jpg\")\n",
    "prediction = detect_letter_form_image(image)\n",
    "print(prediction)\n",
    "dict_letters = [\"A\", \"I\", \"F\", \"O\",\"R\", \"U\"]\n",
    "print(dict_letters[np.argmax(prediction)])"
   ]
  },
  {
   "cell_type": "code",
   "execution_count": 12,
   "metadata": {},
   "outputs": [
    {
     "name": "stdout",
     "output_type": "stream",
     "text": [
      "True\n",
      "[[0.74881345 0.02531371 0.0016813  0.01640705 0.00230578 0.20547874]]\n"
     ]
    }
   ],
   "source": [
    "# Sobald Roboter bereitsteht -> Buchstaben erkennen\n",
    "image = get_image()\n",
    "prediction = detect_letter_form_image(image)\n",
    "print(prediction)"
   ]
  },
  {
   "cell_type": "markdown",
   "metadata": {},
   "source": [
    "Test importierung des Bildes\n"
   ]
  },
  {
   "cell_type": "code",
   "execution_count": 8,
   "metadata": {},
   "outputs": [
    {
     "name": "stdout",
     "output_type": "stream",
     "text": [
      "<PIL.Image.Image image mode=RGB size=502x402 at 0x29C37169B50>\n",
      "<PIL.JpegImagePlugin.JpegImageFile image mode=RGB size=502x402 at 0x29C3717D1F0>\n"
     ]
    }
   ],
   "source": [
    "image_cv = cv2.imread(\"images/image_7.jpg\")\n",
    "image_cv = cv2.cvtColor(image_cv, cv2.COLOR_BGR2RGB)\n",
    "image_cv = Image.fromarray(image_cv)\n",
    "\n",
    "image_pil = Image.open('images/image_0.jpg')\n",
    "image_array = np.asarray(image)\n",
    "\n",
    "print(image_cv)\n",
    "print(image_pil)"
   ]
  }
 ],
 "metadata": {
  "interpreter": {
   "hash": "8dd46604197fbac0b8f2fd590431e40410c6ec5a3f9f1bd3240f5e252378fc5a"
  },
  "kernelspec": {
   "display_name": "Python 3.9.7 64-bit",
   "language": "python",
   "name": "python3"
  },
  "language_info": {
   "codemirror_mode": {
    "name": "ipython",
    "version": 3
   },
   "file_extension": ".py",
   "mimetype": "text/x-python",
   "name": "python",
   "nbconvert_exporter": "python",
   "pygments_lexer": "ipython3",
   "version": "3.9.7"
  },
  "orig_nbformat": 4
 },
 "nbformat": 4,
 "nbformat_minor": 2
}
